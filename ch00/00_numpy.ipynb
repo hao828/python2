{
  "nbformat": 4,
  "nbformat_minor": 0,
  "metadata": {
    "colab": {
      "provenance": []
    },
    "kernelspec": {
      "name": "python3",
      "display_name": "Python 3"
    },
    "language_info": {
      "name": "python"
    }
  },
  "cells": [
    {
      "cell_type": "code",
      "source": [
        "# list  : element data type 可以各自不同\n",
        "# numpy : element data type 必須一致\n",
        "scores = [44, 55, 66, 77, '88']\n",
        "scores"
      ],
      "metadata": {
        "colab": {
          "base_uri": "https://localhost:8080/"
        },
        "id": "9PNlRwc3kP-6",
        "outputId": "691c31b9-d793-4256-f4fe-b408dc6c61cc"
      },
      "execution_count": null,
      "outputs": [
        {
          "output_type": "execute_result",
          "data": {
            "text/plain": [
              "[44, 55, 66, 77, '88']"
            ]
          },
          "metadata": {},
          "execution_count": 7
        }
      ]
    },
    {
      "cell_type": "code",
      "source": [
        "# list  : element data type 可以各自不同\n",
        "# numpy : element data type 必須一致\n",
        "import numpy as np\n",
        "scores2 = np.array([44, 55, 66, 77, 88])\n",
        "# array 向量 矩陣\n",
        "scores2"
      ],
      "metadata": {
        "colab": {
          "base_uri": "https://localhost:8080/"
        },
        "id": "wqs5aXO3kkLo",
        "outputId": "66b1f9bd-4455-486e-df72-670de0f1cccb"
      },
      "execution_count": null,
      "outputs": [
        {
          "output_type": "execute_result",
          "data": {
            "text/plain": [
              "array([44, 55, 66, 77, 88])"
            ]
          },
          "metadata": {},
          "execution_count": 3
        }
      ]
    },
    {
      "cell_type": "code",
      "execution_count": null,
      "metadata": {
        "colab": {
          "base_uri": "https://localhost:8080/"
        },
        "id": "rKZZJtGPkH0L",
        "outputId": "b05ebd07-1815-43ee-a6ee-a3a3cfcf5e8f"
      },
      "outputs": [
        {
          "output_type": "execute_result",
          "data": {
            "text/plain": [
              "[-5, -4, -3, -2, -1, 0, 1, 2, 3, 4]"
            ]
          },
          "metadata": {},
          "execution_count": 2
        }
      ],
      "source": [
        "list(range(-5, 5, 1))\n",
        "# range 不含最後一個數字"
      ]
    },
    {
      "cell_type": "code",
      "source": [
        "import numpy as np\n",
        "np.arange(-5, 5, 0.2)[:13]\n",
        "# [:13] 前13筆資料"
      ],
      "metadata": {
        "colab": {
          "base_uri": "https://localhost:8080/"
        },
        "id": "KL3or8ralOMH",
        "outputId": "2a9a63f7-c876-415f-bfd0-8ad7707bc81f"
      },
      "execution_count": null,
      "outputs": [
        {
          "output_type": "execute_result",
          "data": {
            "text/plain": [
              "array([-5. , -4.8, -4.6, -4.4, -4.2, -4. , -3.8, -3.6, -3.4, -3.2, -3. ,\n",
              "       -2.8, -2.6])"
            ]
          },
          "metadata": {},
          "execution_count": 5
        }
      ]
    },
    {
      "cell_type": "code",
      "source": [
        "# 考你一個題目\n",
        "#  如果要產生 0, 2, 4, 6 的數值\n",
        "# 請用 range, np.arange方式生成 np.linspace\n",
        "print( list( range(0, 8, 2) ) )\n",
        "print( np.arange(0, 8, 2) )\n",
        "print(np.linspace(0, 6, 4)) # linspace 含頭含尾"
      ],
      "metadata": {
        "colab": {
          "base_uri": "https://localhost:8080/"
        },
        "id": "zqBV21jHv_m7",
        "outputId": "5a2e6cc4-f8c7-482c-fbc3-6f7aa29c5ac1"
      },
      "execution_count": null,
      "outputs": [
        {
          "output_type": "stream",
          "name": "stdout",
          "text": [
            "[0, 2, 4, 6]\n",
            "[0 2 4 6]\n"
          ]
        },
        {
          "output_type": "execute_result",
          "data": {
            "text/plain": [
              "array([0., 2., 4., 6.])"
            ]
          },
          "metadata": {},
          "execution_count": 11
        }
      ]
    },
    {
      "cell_type": "code",
      "source": [
        "# 轉換資料型態 pandas.2-rank --> numpy --> list\n",
        "# 請問以下的數據怎樣轉換成 list\n",
        "data = np.arange(0, 8, 2)\n",
        "print(data, type(data)) # numpy\n",
        "print(data.tolist()) # list"
      ],
      "metadata": {
        "colab": {
          "base_uri": "https://localhost:8080/"
        },
        "id": "Gu1o9MLSxp-8",
        "outputId": "31848da3-be90-4d14-c6d4-997483c120a2"
      },
      "execution_count": null,
      "outputs": [
        {
          "output_type": "stream",
          "name": "stdout",
          "text": [
            "[0 2 4 6] <class 'numpy.ndarray'>\n",
            "[0, 2, 4, 6]\n"
          ]
        }
      ]
    },
    {
      "cell_type": "code",
      "source": [
        "import numpy as np\n",
        "test1 = [0, 2, 4, 6]\n",
        "test2 = np.array(test1)\n",
        "print(test1)\n",
        "print(test2)\n",
        "\n"
      ],
      "metadata": {
        "colab": {
          "base_uri": "https://localhost:8080/"
        },
        "id": "olvJ8AA4MsTI",
        "outputId": "73adf314-fffd-44ed-dbb4-cafbd0f13e5d"
      },
      "execution_count": null,
      "outputs": [
        {
          "output_type": "stream",
          "name": "stdout",
          "text": [
            "[0, 2, 4, 6]\n",
            "[0 2 4 6]\n"
          ]
        }
      ]
    },
    {
      "cell_type": "code",
      "source": [
        "test1 + 10 # list"
      ],
      "metadata": {
        "id": "Vl8hKFrwNA26",
        "outputId": "aec271b9-c2c8-448a-ddd5-e30c4e4cdffd",
        "colab": {
          "base_uri": "https://localhost:8080/",
          "height": 147
        }
      },
      "execution_count": null,
      "outputs": [
        {
          "output_type": "error",
          "ename": "TypeError",
          "evalue": "can only concatenate list (not \"int\") to list",
          "traceback": [
            "\u001b[0;31m---------------------------------------------------------------------------\u001b[0m",
            "\u001b[0;31mTypeError\u001b[0m                                 Traceback (most recent call last)",
            "\u001b[0;32m<ipython-input-11-9d9e4b86484f>\u001b[0m in \u001b[0;36m<cell line: 1>\u001b[0;34m()\u001b[0m\n\u001b[0;32m----> 1\u001b[0;31m \u001b[0mtest1\u001b[0m \u001b[0;34m+\u001b[0m \u001b[0;36m10\u001b[0m\u001b[0;34m\u001b[0m\u001b[0;34m\u001b[0m\u001b[0m\n\u001b[0m",
            "\u001b[0;31mTypeError\u001b[0m: can only concatenate list (not \"int\") to list"
          ]
        }
      ]
    },
    {
      "cell_type": "code",
      "source": [
        "test2 + 10 # numpy (batch process)"
      ],
      "metadata": {
        "colab": {
          "base_uri": "https://localhost:8080/"
        },
        "id": "InhVtAMsM4t-",
        "outputId": "d3d09a32-612c-4369-b72e-614a905d98b7"
      },
      "execution_count": null,
      "outputs": [
        {
          "output_type": "execute_result",
          "data": {
            "text/plain": [
              "array([10, 12, 14, 16])"
            ]
          },
          "metadata": {},
          "execution_count": 10
        }
      ]
    }
  ]
}